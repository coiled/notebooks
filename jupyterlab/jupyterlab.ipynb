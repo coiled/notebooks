{
 "cells": [
  {
   "cell_type": "markdown",
   "metadata": {},
   "source": [
    "# Coiled + JupyterLab\n",
    "\n",
    "Coiled integrates well with [JupyterLab](https://jupyterlab.readthedocs.io/en/latest/) and its extension ecosystem. In particular, this notebook highlights the [Dask](https://github.com/dask/dask-labextension) and [Ipywidgets](https://ipywidgets.readthedocs.io/en/latest/index.html) JupyterLab extensions.\n",
    "\n",
    "## Cluster widget\n",
    "\n",
    "``coiled.Cluster`` uses Ipywidget's JupyterLab extension to display an interactive widget when outputted in a JupyterLab cell "
   ]
  },
  {
   "cell_type": "code",
   "execution_count": null,
   "metadata": {},
   "outputs": [],
   "source": [
    "import coiled\n",
    "\n",
    "cluster = coiled.Cluster(n_workers=10)"
   ]
  },
  {
   "cell_type": "code",
   "execution_count": null,
   "metadata": {},
   "outputs": [],
   "source": [
    "cluster"
   ]
  },
  {
   "cell_type": "markdown",
   "metadata": {},
   "source": [
    "You can use the cluster widget by, for example, clicking the \"Manual Scaling\" dropdown and adjusting the number of workers in your Coiled cluster.\n",
    "\n",
    "## Dask Jupyterlab extension\n",
    "\n",
    "Dask's JupyterLab extension allows you to embed [Dask dashboard plots](https://docs.dask.org/en/latest/diagnostics-distributed.html) directly into a JupyterLab session. This let's you view diagnostic plots right alongside the code you're running.\n",
    "\n",
    "To use Dask's JupyterLab extension, we need to first connect Dask to our cluster by creating a ``distributed.Client``:"
   ]
  },
  {
   "cell_type": "code",
   "execution_count": null,
   "metadata": {},
   "outputs": [],
   "source": [
    "from dask.distributed import Client\n",
    "\n",
    "client = Client(cluster)"
   ]
  },
  {
   "cell_type": "markdown",
   "metadata": {},
   "source": [
    "Open the Dask JupyterLab extension by clicking the Dask logo <img width=40px src=\"https://docs.dask.org/en/latest/_images/dask_icon.svg\"> in the JupyterLab left sidebar and then click the magnifying glass icon in the upper right-hand corner to connect the extension to your cluster.\n",
    "\n",
    "<center>\n",
    "    <img width=400px src=\"dask-extension.png\" />\n",
    "</center>"
   ]
  },
  {
   "cell_type": "markdown",
   "metadata": {},
   "source": [
    "That's it! Now when we perform computations we get interactive, realtime views of what's happening on the cluster:"
   ]
  },
  {
   "cell_type": "code",
   "execution_count": null,
   "metadata": {},
   "outputs": [],
   "source": [
    "import dask.dataframe as dd\n",
    "\n",
    "df = dd.read_csv(\n",
    "    \"s3://nyc-tlc/trip data/yellow_tripdata_2019-*.csv\",\n",
    "    dtype={\n",
    "        \"payment_type\": \"UInt8\",\n",
    "        \"VendorID\": \"UInt8\",\n",
    "        \"passenger_count\": \"UInt8\",\n",
    "        \"RatecodeID\": \"UInt8\",\n",
    "    },\n",
    "    storage_options={\"anon\": True},\n",
    "    blocksize=\"16 MiB\",\n",
    ").persist()\n",
    "\n",
    "df.groupby(\"passenger_count\").tip_amount.mean().compute()"
   ]
  },
  {
   "cell_type": "markdown",
   "metadata": {},
   "source": [
    "Each organge button like \"Task stream\" and \"Progress\" correspond to a different diagnostic plot to view. Try clicking one of the buttons and then arranging the plot wherever you'd like in this JupyterLab session."
   ]
  }
 ],
 "metadata": {
  "kernelspec": {
   "display_name": "Python 3",
   "language": "python",
   "name": "python3"
  },
  "language_info": {
   "codemirror_mode": {
    "name": "ipython",
    "version": 3
   },
   "file_extension": ".py",
   "mimetype": "text/x-python",
   "name": "python",
   "nbconvert_exporter": "python",
   "pygments_lexer": "ipython3",
   "version": "3.8.5"
  }
 },
 "nbformat": 4,
 "nbformat_minor": 4
}
